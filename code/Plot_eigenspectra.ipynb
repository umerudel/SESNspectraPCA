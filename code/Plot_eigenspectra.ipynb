{
 "cells": [
  {
   "cell_type": "code",
   "execution_count": 19,
   "metadata": {},
   "outputs": [],
   "source": [
    "import SNIDsn\n",
    "import SNIDdataset as snid\n",
    "import numpy as np\n",
    "import SNePCA\n",
    "\n",
    "import plotly.plotly as ply\n",
    "import plotly.graph_objs as go\n",
    "import plotly.tools as tls\n",
    "\n",
    "import matplotlib.pyplot as plt\n",
    "\n",
    "from BinSpectra import random_noise_dataset\n",
    "from BinSpectra import lowres_dataset\n",
    "import warnings\n",
    "from cycler import cycler\n",
    "import random\n",
    "\n",
    "PATH = '../Data/DataProducts/'"
   ]
  },
  {
   "cell_type": "code",
   "execution_count": 20,
   "metadata": {},
   "outputs": [],
   "source": [
    "def loaddata(phase):\n",
    "    dsname = \"dataset{}.pickle\".format(phase)\n",
    "    return snid.loadPickle(PATH + dsname)\n",
    "\n",
    "def replace_flux_with_noise(phase):\n",
    "    datain = loaddata(phase)\n",
    "    dataset_randn = random_noise_dataset(datain)\n",
    "    return dataset_randn\n",
    "\n",
    "def plot_eigenspectra():\n",
    "    PATH_save = '../Plots/'\n",
    "    m = 0\n",
    "    k = 0.0027069686088658784\n",
    "    while k <= 0.11098571296350102:\n",
    "        phases = [0, 5, 10, 15]\n",
    "        dphase = 5\n",
    "        colors = ['r', 'b', 'c', 'g']\n",
    "        l = 0\n",
    "        f_all, axs = plt.subplots(5,1,figsize=(10,20))\n",
    "        for phase in phases:\n",
    "            dataset = replace_flux_with_noise(phase)\n",
    "            dataset_lowres = lowres_dataset(dataset, k)\n",
    "            snidPCA = SNePCA.SNePCA(dataset_lowres, phase - dphase, phase + dphase)\n",
    "            snidPCA.snidPCA()\n",
    "            snidPCA.calcPCACoeffs()\n",
    "            color = colors[l]\n",
    "            for i in range(5):\n",
    "                axs[i].set_title('PCA%d Eigenspectra'%(i+1))\n",
    "                axs[i].set_yticks([])\n",
    "                axs[i].plot(snidPCA.wavelengths,snidPCA.evecs[i]+2-(phase / 10), color,label='phase %d'%phase)\n",
    "                axs[i].legend()\n",
    "            l = l + 1\n",
    "        k = k + 0.010827874435463514\n",
    "        m = m + 1\n",
    "        f_all.savefig(PATH_save + 'eigenspec_%d.png'% m, bbox_inches='tight')\n",
    "        plt.close()\n",
    "    return"
   ]
  },
  {
   "cell_type": "code",
   "execution_count": 21,
   "metadata": {},
   "outputs": [],
   "source": [
    "plot_eigenspectra()"
   ]
  },
  {
   "cell_type": "code",
   "execution_count": null,
   "metadata": {},
   "outputs": [],
   "source": []
  }
 ],
 "metadata": {
  "kernelspec": {
   "display_name": "Python 3",
   "language": "python",
   "name": "python3"
  },
  "language_info": {
   "codemirror_mode": {
    "name": "ipython",
    "version": 3
   },
   "file_extension": ".py",
   "mimetype": "text/x-python",
   "name": "python",
   "nbconvert_exporter": "python",
   "pygments_lexer": "ipython3",
   "version": "3.7.3"
  }
 },
 "nbformat": 4,
 "nbformat_minor": 2
}
