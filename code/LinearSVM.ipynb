{
 "cells": [
  {
   "cell_type": "code",
   "execution_count": 24,
   "metadata": {},
   "outputs": [],
   "source": [
    "import SNIDsn\n",
    "import SNIDdataset as snid\n",
    "import numpy as np\n",
    "import SNePCA\n",
    "\n",
    "import plotly.plotly as ply\n",
    "import plotly.graph_objs as go\n",
    "import plotly.tools as tls\n",
    "\n",
    "import matplotlib.pyplot as plt\n",
    "from BinSpectra import lowres_dataset\n",
    "from BinSpectra import GetTypes\n",
    "import warnings\n",
    "warnings.filterwarnings('ignore')\n",
    "\n",
    "from sklearn.svm import LinearSVC\n",
    "from sklearn.model_selection import train_test_split"
   ]
  },
  {
   "cell_type": "markdown",
   "metadata": {},
   "source": [
    "# 1 SVM"
   ]
  },
  {
   "cell_type": "markdown",
   "metadata": {
    "collapsed": true
   },
   "source": [
    "## 1.1 Load preprocessed SNID datasets "
   ]
  },
  {
   "cell_type": "markdown",
   "metadata": {},
   "source": [
    "datasetX contains the SNID spectra for the phase range X +/- 5 days, where each SNe has only 1 spectrum in this phase range.  The spectrum with phase closest to X is chosen. All of the preprocessing has been applied (wavelength cut, smoothing, phase type, etc)"
   ]
  },
  {
   "cell_type": "code",
   "execution_count": 25,
   "metadata": {},
   "outputs": [],
   "source": [
    "dataset0 = snid.loadPickle('../Data/DataProducts/dataset0.pickle')\n",
    "dataset5 = snid.loadPickle('../Data/DataProducts/dataset5.pickle')\n",
    "dataset10 = snid.loadPickle('../Data/DataProducts/dataset10.pickle')\n",
    "dataset15 = snid.loadPickle('../Data/DataProducts/dataset15.pickle')"
   ]
  },
  {
   "cell_type": "markdown",
   "metadata": {},
   "source": [
    "## 1.2 Run PCA"
   ]
  },
  {
   "cell_type": "code",
   "execution_count": 26,
   "metadata": {},
   "outputs": [],
   "source": [
    "#k = 0.0027069686088658784       # Original resolution\n",
    "k = 0.11098571296350102         # Lowest resolution\n",
    "\n",
    "dataset_lowres0 = lowres_dataset(dataset0, k)\n",
    "dataset_lowres5 = lowres_dataset(dataset5, k)\n",
    "dataset_lowres10 = lowres_dataset(dataset10, k)\n",
    "dataset_lowres15 = lowres_dataset(dataset15, k)\n",
    "\n",
    "\n",
    "snidPCA0 = SNePCA.SNePCA(dataset_lowres0, -5, 5)\n",
    "snidPCA5 = SNePCA.SNePCA(dataset_lowres5, 0, 10)\n",
    "snidPCA10 = SNePCA.SNePCA(dataset_lowres10, 5, 15)\n",
    "snidPCA15 = SNePCA.SNePCA(dataset_lowres15, 10, 20)\n",
    "\n",
    "snidPCA0.snidPCA()\n",
    "snidPCA5.snidPCA()\n",
    "snidPCA10.snidPCA()\n",
    "snidPCA15.snidPCA()\n",
    "\n",
    "snidPCA0.calcPCACoeffs()\n",
    "snidPCA5.calcPCACoeffs()\n",
    "snidPCA10.calcPCACoeffs()\n",
    "snidPCA15.calcPCACoeffs()"
   ]
  },
  {
   "cell_type": "code",
   "execution_count": 4,
   "metadata": {},
   "outputs": [
    {
     "name": "stdout",
     "output_type": "stream",
     "text": [
      "(55, 5)\n",
      "(52, 5)\n",
      "(56, 5)\n",
      "(54, 5)\n"
     ]
    }
   ],
   "source": [
    "print(snidPCA0.pcaCoeffMatrix.shape)\n",
    "print(snidPCA5.pcaCoeffMatrix.shape)\n",
    "print(snidPCA10.pcaCoeffMatrix.shape)\n",
    "print(snidPCA15.pcaCoeffMatrix.shape)"
   ]
  },
  {
   "cell_type": "markdown",
   "metadata": {},
   "source": [
    "## 1.3 Linear SVM "
   ]
  },
  {
   "cell_type": "code",
   "execution_count": 4,
   "metadata": {},
   "outputs": [],
   "source": [
    "IIbMask, IbMask, IcMask, IcBLMask = snidPCA0.getSNeTypeMasks()\n",
    "labels = 1*IIbMask + 2*IbMask + 3*IcMask + 4*IcBLMask"
   ]
  },
  {
   "cell_type": "code",
   "execution_count": 23,
   "metadata": {},
   "outputs": [
    {
     "data": {
      "text/plain": [
       "array([2, 2, 2, 2, 2, 2, 2, 2, 2, 2, 2, 2, 2, 2, 1, 1, 1, 1, 1, 1, 1, 1,\n",
       "       1, 1, 1, 1, 1, 1, 1, 3, 3, 3, 3, 3, 3, 3, 3, 3, 3, 3, 3, 3, 4, 4,\n",
       "       4, 4, 4, 4, 4, 4, 4, 4, 4, 4, 4])"
      ]
     },
     "execution_count": 23,
     "metadata": {},
     "output_type": "execute_result"
    }
   ],
   "source": [
    "labels"
   ]
  },
  {
   "cell_type": "code",
   "execution_count": 27,
   "metadata": {},
   "outputs": [
    {
     "data": {
      "text/plain": [
       "{'sn1998dt': 'Ib-norm',\n",
       " 'sn1999dn': 'Ib-norm',\n",
       " 'sn1999ex': 'Ib-norm',\n",
       " 'sn2004gq': 'Ib-norm',\n",
       " 'sn2005bf': 'Ib-norm',\n",
       " 'sn2005hg': 'Ib-norm',\n",
       " 'sn2007ag': 'Ib-norm',\n",
       " 'sn2007C': 'Ib-norm',\n",
       " 'sn2007kj': 'Ib-norm',\n",
       " 'sn2007uy': 'Ib-pec',\n",
       " 'sn2007Y': 'Ib-norm',\n",
       " 'sn2008D': 'Ib-norm',\n",
       " 'sn2009er': 'Ib-pec',\n",
       " 'sn2009jf': 'Ib-norm',\n",
       " 'sn2012P': 'IIb',\n",
       " 'sn2013df': 'IIb',\n",
       " 'sn2016gkg': 'IIb',\n",
       " '11hs': 'IIb',\n",
       " 'sn1993J': 'IIb',\n",
       " 'sn1996cb': 'IIb',\n",
       " 'sn1998fa': 'IIb',\n",
       " 'sn2000H': 'IIb',\n",
       " 'sn2004ff': 'IIb',\n",
       " 'sn2006el': 'IIb',\n",
       " 'sn2008bo': 'IIb',\n",
       " 'sn2009mg': 'IIb',\n",
       " 'sn2011dh': 'IIb',\n",
       " 'sn2011ei': 'IIb',\n",
       " 'sn2011fu': 'IIb',\n",
       " 'LSQ14efd': 'Ic',\n",
       " '13ge': 'Ic',\n",
       " '15dtg': 'Ic',\n",
       " 'sn1994I': 'Ic-norm',\n",
       " 'sn2004aw': 'Ic-norm',\n",
       " 'sn2004fe': 'Ic-norm',\n",
       " 'sn2005az': 'Ic-norm',\n",
       " 'sn2005ek': 'Ic-pec',\n",
       " 'sn2005kl': 'Ic-norm',\n",
       " 'sn2005mf': 'Ic-norm',\n",
       " 'sn2007gr': 'Ic-norm',\n",
       " 'sn2011bm': 'Ic-norm',\n",
       " 'sn2013dk': 'Ic-norm',\n",
       " '16coi': 'Ic-broad',\n",
       " 'sn1997ef': 'Ic-broad',\n",
       " 'sn1998bw': 'Ic-broad',\n",
       " 'sn2002ap': 'Ic-broad',\n",
       " 'sn2003jd': 'Ic-broad',\n",
       " 'sn2003lw': 'Ic-broad',\n",
       " 'sn2006aj': 'Ic-broad',\n",
       " 'sn2007ru': 'Ic-broad',\n",
       " 'sn2009bb': 'Ic-broad',\n",
       " 'sn2010bh': 'Ic-broad',\n",
       " 'sn2012ap': 'Ic-broad',\n",
       " 'sn2012bz': 'Ic-broad',\n",
       " 'sn2013dx': 'Ic-broad'}"
      ]
     },
     "execution_count": 27,
     "metadata": {},
     "output_type": "execute_result"
    }
   ],
   "source": [
    "GetTypes(dataset0)"
   ]
  },
  {
   "cell_type": "code",
   "execution_count": 143,
   "metadata": {},
   "outputs": [],
   "source": [
    "x = snidPCA0.pcaCoeffMatrix[:,3]\n",
    "y = snidPCA0.pcaCoeffMatrix[:,4]"
   ]
  },
  {
   "cell_type": "code",
   "execution_count": 144,
   "metadata": {},
   "outputs": [],
   "source": [
    "data = np.column_stack((x,y))"
   ]
  },
  {
   "cell_type": "code",
   "execution_count": 145,
   "metadata": {},
   "outputs": [],
   "source": [
    "linsvm = LinearSVC()\n",
    "test_score = []"
   ]
  },
  {
   "cell_type": "code",
   "execution_count": 154,
   "metadata": {},
   "outputs": [],
   "source": [
    "for i in range(50):\n",
    "    trainX, testX, trainY, testY = train_test_split(data, labels, test_size=0.30)\n",
    "    linsvm.fit(trainX, trainY)\n",
    "    trainscore = linsvm.score(trainX, trainY)\n",
    "    testscore = linsvm.score(testX, testY)    \n",
    "    test_score.append(testscore)"
   ]
  },
  {
   "cell_type": "code",
   "execution_count": 155,
   "metadata": {},
   "outputs": [
    {
     "data": {
      "text/plain": [
       "(0.3392941176470588, 0.09648091766794324)"
      ]
     },
     "execution_count": 155,
     "metadata": {},
     "output_type": "execute_result"
    }
   ],
   "source": [
    "np.array(test_score).mean(), np.array(test_score).std()"
   ]
  },
  {
   "cell_type": "code",
   "execution_count": null,
   "metadata": {},
   "outputs": [],
   "source": []
  }
 ],
 "metadata": {
  "kernelspec": {
   "display_name": "Python 3",
   "language": "python",
   "name": "python3"
  },
  "language_info": {
   "codemirror_mode": {
    "name": "ipython",
    "version": 3
   },
   "file_extension": ".py",
   "mimetype": "text/x-python",
   "name": "python",
   "nbconvert_exporter": "python",
   "pygments_lexer": "ipython3",
   "version": "3.7.3"
  }
 },
 "nbformat": 4,
 "nbformat_minor": 2
}
