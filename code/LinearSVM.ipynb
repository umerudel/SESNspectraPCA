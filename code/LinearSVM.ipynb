{
 "cells": [
  {
   "cell_type": "code",
   "execution_count": 1,
   "metadata": {},
   "outputs": [],
   "source": [
    "import SNIDsn\n",
    "import SNIDdataset as snid\n",
    "import numpy as np\n",
    "import SNePCA\n",
    "\n",
    "import plotly.plotly as ply\n",
    "import plotly.graph_objs as go\n",
    "import plotly.tools as tls\n",
    "\n",
    "import matplotlib.pyplot as plt\n",
    "from BinSpectra import lowres_dataset\n",
    "from BinSpectra import GetTypes\n",
    "import warnings\n",
    "from BinSpectra import random_noise_dataset\n",
    "from BinSpectra import replace_flux_with_noise\n",
    "warnings.filterwarnings('ignore')\n",
    "\n",
    "from sklearn.svm import LinearSVC\n",
    "from sklearn.model_selection import train_test_split\n",
    "\n",
    "PATH = '../Data/DataProducts/'"
   ]
  },
  {
   "cell_type": "code",
   "execution_count": 13,
   "metadata": {},
   "outputs": [],
   "source": [
    "def loaddata(phase):\n",
    "    \"\"\"\n",
    "    Loads the pickled dataset\n",
    "    \"\"\"\n",
    "    dsname = \"dataset{}.pickle\".format(phase)\n",
    "    return snid.loadPickle(PATH + dsname)\n",
    "\n",
    "\n",
    "def get_bin_length(phase, bin_factor):\n",
    "    dataset = loaddata(phase)\n",
    "    dataset_key_list = list(dataset.keys())\n",
    "    wvl = dataset[dataset_key_list[0]].wavelengths\n",
    "    wbin = (np.log(wvl[1]) - np.log(wvl[0])) * bin_factor\n",
    "    return wbin\n",
    "\n",
    "\n",
    "def LinearSVM(phase, pcax, pcay, dphase=5, noise=False):\n",
    "    dataset = loaddata(phase)\n",
    "    if noise:\n",
    "        dataset = replace_flux_with_noise(dataset)\n",
    "        dataset_lowres = lowres_dataset(dataset, k)\n",
    "    else:\n",
    "        dataset_lowres = lowres_dataset(dataset, k)\n",
    "    snidPCA_ph = SNePCA.SNePCA(dataset_lowres, phase - dphase, phase + dphase)\n",
    "    snidPCA_ph.snidPCA()\n",
    "    snidPCA_ph.calcPCACoeffs()\n",
    "    \n",
    "    IIbMask, IbMask, IcMask, IcBLMask = snidPCA_ph.getSNeTypeMasks()\n",
    "    labels = 1*IIbMask + 2*IbMask + 3*IcMask + 4*IcBLMask\n",
    "    \n",
    "    x = snidPCA_ph.pcaCoeffMatrix[:,pcax-1]\n",
    "    y = snidPCA_ph.pcaCoeffMatrix[:,pcay-1]\n",
    "    data = np.column_stack((x,y))\n",
    "    \n",
    "    linsvm = LinearSVC()\n",
    "    test_score = []\n",
    "    \n",
    "    for i in range(50):\n",
    "        trainX, testX, trainY, testY = train_test_split(data, labels, test_size=0.30)\n",
    "        linsvm.fit(trainX, trainY)\n",
    "        trainscore = linsvm.score(trainX, trainY)\n",
    "        testscore = linsvm.score(testX, testY)    \n",
    "        test_score.append(testscore)\n",
    "    av_svm_sc, svm_std = np.array(test_score).mean(), np.array(test_score).std()\n",
    "    return av_svm_sc, svm_std"
   ]
  },
  {
   "cell_type": "markdown",
   "metadata": {},
   "source": [
    "# 1 Real Spectrum"
   ]
  },
  {
   "cell_type": "markdown",
   "metadata": {
    "collapsed": true
   },
   "source": [
    "## 1.1 Phase 0: PC1 vs PC5"
   ]
  },
  {
   "cell_type": "markdown",
   "metadata": {},
   "source": [
    "### 1.1.1 Full resolution"
   ]
  },
  {
   "cell_type": "code",
   "execution_count": 26,
   "metadata": {},
   "outputs": [
    {
     "data": {
      "text/plain": [
       "(0.5529411764705884, 0.1158689153152483)"
      ]
     },
     "execution_count": 26,
     "metadata": {},
     "output_type": "execute_result"
    }
   ],
   "source": [
    "k = get_bin_length(0, 1)\n",
    "#k = get_bin_length(0, 82)\n",
    "LinearSVM(0, 1, 5)"
   ]
  },
  {
   "cell_type": "markdown",
   "metadata": {},
   "source": [
    "### 1.1.2 Lowest resolution"
   ]
  },
  {
   "cell_type": "code",
   "execution_count": 40,
   "metadata": {},
   "outputs": [
    {
     "data": {
      "text/plain": [
       "(0.5305882352941176, 0.08523527381967039)"
      ]
     },
     "execution_count": 40,
     "metadata": {},
     "output_type": "execute_result"
    }
   ],
   "source": [
    "#k = get_bin_length(0, 1)\n",
    "k = get_bin_length(0, 82)\n",
    "LinearSVM(0, 1, 5)"
   ]
  },
  {
   "cell_type": "markdown",
   "metadata": {},
   "source": [
    "## 1.2 Phase 5: PC1 vs PC3"
   ]
  },
  {
   "cell_type": "markdown",
   "metadata": {},
   "source": [
    "### 1.2.1 Full resolution"
   ]
  },
  {
   "cell_type": "code",
   "execution_count": 34,
   "metadata": {},
   "outputs": [
    {
     "data": {
      "text/plain": [
       "(0.585, 0.12484990989183774)"
      ]
     },
     "execution_count": 34,
     "metadata": {},
     "output_type": "execute_result"
    }
   ],
   "source": [
    "k = get_bin_length(5, 1)\n",
    "#k = get_bin_length(5, 82)\n",
    "LinearSVM(5, 1, 3)"
   ]
  },
  {
   "cell_type": "markdown",
   "metadata": {},
   "source": [
    "### 1.2.2 Lowest resolution"
   ]
  },
  {
   "cell_type": "code",
   "execution_count": 41,
   "metadata": {},
   "outputs": [
    {
     "data": {
      "text/plain": [
       "(0.57, 0.08536685539481936)"
      ]
     },
     "execution_count": 41,
     "metadata": {},
     "output_type": "execute_result"
    }
   ],
   "source": [
    "#k = get_bin_length(5, 1)\n",
    "k = get_bin_length(5, 82)\n",
    "LinearSVM(5, 1, 3)"
   ]
  },
  {
   "cell_type": "markdown",
   "metadata": {},
   "source": [
    "## 1.3 Phase 10: PC1 vs PC3"
   ]
  },
  {
   "cell_type": "markdown",
   "metadata": {},
   "source": [
    "### 1.3.1 Full resolution"
   ]
  },
  {
   "cell_type": "code",
   "execution_count": 51,
   "metadata": {},
   "outputs": [
    {
     "data": {
      "text/plain": [
       "(0.7105882352941175, 0.10040747432165584)"
      ]
     },
     "execution_count": 51,
     "metadata": {},
     "output_type": "execute_result"
    }
   ],
   "source": [
    "k = get_bin_length(10, 1)\n",
    "#k = get_bin_length(10, 82)\n",
    "LinearSVM(10, 1, 3)"
   ]
  },
  {
   "cell_type": "markdown",
   "metadata": {},
   "source": [
    "### 1.3.2 Lowest resolution"
   ]
  },
  {
   "cell_type": "code",
   "execution_count": 45,
   "metadata": {},
   "outputs": [
    {
     "data": {
      "text/plain": [
       "(0.5494117647058823, 0.08773189735295134)"
      ]
     },
     "execution_count": 45,
     "metadata": {},
     "output_type": "execute_result"
    }
   ],
   "source": [
    "#k = get_bin_length(10, 1)\n",
    "k = get_bin_length(10, 82)\n",
    "LinearSVM(10, 1, 3)"
   ]
  },
  {
   "cell_type": "markdown",
   "metadata": {},
   "source": [
    "## 1.4 Phase 15: PC1 vs PC3"
   ]
  },
  {
   "cell_type": "markdown",
   "metadata": {},
   "source": [
    "### 1.4.1 Full resolution"
   ]
  },
  {
   "cell_type": "code",
   "execution_count": 49,
   "metadata": {},
   "outputs": [
    {
     "data": {
      "text/plain": [
       "(0.6835294117647058, 0.10646246312838774)"
      ]
     },
     "execution_count": 49,
     "metadata": {},
     "output_type": "execute_result"
    }
   ],
   "source": [
    "k = get_bin_length(15, 1)\n",
    "#k = get_bin_length(15, 82)\n",
    "LinearSVM(15, 1, 3)"
   ]
  },
  {
   "cell_type": "markdown",
   "metadata": {},
   "source": [
    "### 1.4.2 Lowest resolution"
   ]
  },
  {
   "cell_type": "code",
   "execution_count": 54,
   "metadata": {},
   "outputs": [
    {
     "data": {
      "text/plain": [
       "(0.41529411764705876, 0.09730627991412806)"
      ]
     },
     "execution_count": 54,
     "metadata": {},
     "output_type": "execute_result"
    }
   ],
   "source": [
    "#k = get_bin_length(15, 1)\n",
    "k = get_bin_length(15, 82)\n",
    "LinearSVM(15, 1, 3)"
   ]
  },
  {
   "cell_type": "markdown",
   "metadata": {},
   "source": [
    "# 2 Random Noise"
   ]
  },
  {
   "cell_type": "markdown",
   "metadata": {},
   "source": [
    "## 2.1 Phase 0: PC1 vs PC5"
   ]
  },
  {
   "cell_type": "markdown",
   "metadata": {},
   "source": [
    "### 2.1.1 Full resolution"
   ]
  },
  {
   "cell_type": "code",
   "execution_count": 91,
   "metadata": {},
   "outputs": [
    {
     "name": "stdout",
     "output_type": "stream",
     "text": [
      "(0.19058823529411764, 0.08027633933756227)\n",
      "(0.20588235294117646, 0.08086898285216189)\n",
      "(0.13294117647058823, 0.078753261040845)\n",
      "(0.18, 0.07000741433793807)\n",
      "(0.3, 0.09647776156974544)\n",
      "(0.15058823529411763, 0.06671739707650741)\n",
      "(0.23529411764705885, 0.09701425001453319)\n",
      "(0.16941176470588232, 0.07860373218112972)\n",
      "(0.14823529411764705, 0.07555103227295211)\n",
      "(0.16823529411764707, 0.07253205949081577)\n"
     ]
    }
   ],
   "source": [
    "k = get_bin_length(0, 1)\n",
    "#k = get_bin_length(0, 82)\n",
    "for i in range(10):\n",
    "    svm_scores_0 = LinearSVM(0, 1, 5, noise=True)\n",
    "    print(svm_scores_0)"
   ]
  },
  {
   "cell_type": "markdown",
   "metadata": {},
   "source": [
    "### 2.1.2 Lowest resolution"
   ]
  },
  {
   "cell_type": "code",
   "execution_count": 67,
   "metadata": {},
   "outputs": [
    {
     "data": {
      "text/plain": [
       "(0.1564705882352941, 0.07404291283557442)"
      ]
     },
     "execution_count": 67,
     "metadata": {},
     "output_type": "execute_result"
    }
   ],
   "source": [
    "#k = get_bin_length(0, 1)\n",
    "k = get_bin_length(0, 82)\n",
    "LinearSVM(0, 1, 5, noise=True)"
   ]
  },
  {
   "cell_type": "markdown",
   "metadata": {},
   "source": [
    "## 2.2 Phase 5: PC1 vs PC3"
   ]
  },
  {
   "cell_type": "markdown",
   "metadata": {},
   "source": [
    "### 2.2.1 Full resolution"
   ]
  },
  {
   "cell_type": "code",
   "execution_count": 92,
   "metadata": {},
   "outputs": [
    {
     "name": "stdout",
     "output_type": "stream",
     "text": [
      "(0.22375, 0.08300037650517014)\n",
      "(0.1775, 0.07110731326663945)\n",
      "(0.155, 0.07628073151196178)\n",
      "(0.1375, 0.06846531968814576)\n",
      "(0.3275, 0.11357816691600547)\n",
      "(0.20375, 0.08822024994296945)\n",
      "(0.25125, 0.08148044243866133)\n",
      "(0.18625, 0.0972191467767538)\n",
      "(0.27, 0.07949056547792323)\n",
      "(0.21125, 0.08186307165016471)\n"
     ]
    }
   ],
   "source": [
    "k = get_bin_length(5, 1)\n",
    "#k = get_bin_length(5, 82)\n",
    "for i in range(10):\n",
    "    svm_scores_5 = LinearSVM(5, 1, 3, noise=True)\n",
    "    print(svm_scores_5)"
   ]
  },
  {
   "cell_type": "markdown",
   "metadata": {},
   "source": [
    "### 2.2.2 Lowest resolution"
   ]
  },
  {
   "cell_type": "code",
   "execution_count": 74,
   "metadata": {},
   "outputs": [
    {
     "data": {
      "text/plain": [
       "(0.16875, 0.08315084184781293)"
      ]
     },
     "execution_count": 74,
     "metadata": {},
     "output_type": "execute_result"
    }
   ],
   "source": [
    "#k = get_bin_length(5, 1)\n",
    "k = get_bin_length(5, 82)\n",
    "LinearSVM(5, 1, 3, noise=True)"
   ]
  },
  {
   "cell_type": "markdown",
   "metadata": {},
   "source": [
    "## 2.3 Phase 10: PC1 vs PC3 "
   ]
  },
  {
   "cell_type": "markdown",
   "metadata": {},
   "source": [
    "### 2.3.1 Full resolution"
   ]
  },
  {
   "cell_type": "code",
   "execution_count": 93,
   "metadata": {},
   "outputs": [
    {
     "name": "stdout",
     "output_type": "stream",
     "text": [
      "(0.31529411764705884, 0.09755488207824885)\n",
      "(0.1811764705882353, 0.08712239332505232)\n",
      "(0.27764705882352947, 0.0903970480578755)\n",
      "(0.26, 0.10659239051763017)\n",
      "(0.22117647058823534, 0.08769244778157283)\n",
      "(0.3423529411764705, 0.07596211038756671)\n",
      "(0.1835294117647059, 0.07591654496424319)\n",
      "(0.2564705882352942, 0.10506876970242873)\n",
      "(0.24235294117647066, 0.08120204200817599)\n",
      "(0.2341176470588235, 0.08441945035722465)\n"
     ]
    }
   ],
   "source": [
    "k = get_bin_length(10, 1)\n",
    "#k = get_bin_length(10, 82)\n",
    "for i in range(10):\n",
    "    svm_scores_10 = LinearSVM(10, 1, 3, noise=True)\n",
    "    print(svm_scores_10)"
   ]
  },
  {
   "cell_type": "markdown",
   "metadata": {},
   "source": [
    "### 2.3.2 Lowest resolution"
   ]
  },
  {
   "cell_type": "code",
   "execution_count": 76,
   "metadata": {},
   "outputs": [
    {
     "data": {
      "text/plain": [
       "(0.21176470588235294, 0.08645257915705334)"
      ]
     },
     "execution_count": 76,
     "metadata": {},
     "output_type": "execute_result"
    }
   ],
   "source": [
    "#k = get_bin_length(10, 1)\n",
    "k = get_bin_length(10, 82)\n",
    "LinearSVM(10, 1, 3, noise=True)"
   ]
  },
  {
   "cell_type": "markdown",
   "metadata": {},
   "source": [
    "## 2.4 Phase 15: PC1 vs PC3"
   ]
  },
  {
   "cell_type": "markdown",
   "metadata": {},
   "source": [
    "### 2.4.1 Full resolution"
   ]
  },
  {
   "cell_type": "code",
   "execution_count": 94,
   "metadata": {},
   "outputs": [
    {
     "name": "stdout",
     "output_type": "stream",
     "text": [
      "(0.2, 0.08401680504168059)\n",
      "(0.30000000000000004, 0.0866524697803308)\n",
      "(0.2282352941176471, 0.0853569748104332)\n",
      "(0.26, 0.09849384783976986)\n",
      "(0.28, 0.08198235948322045)\n",
      "(0.1623529411764706, 0.06396365750149735)\n",
      "(0.21764705882352942, 0.0858501148195672)\n",
      "(0.1894117647058824, 0.09058823529411765)\n",
      "(0.22705882352941173, 0.0888293726165302)\n",
      "(0.2788235294117647, 0.10377644324706055)\n"
     ]
    }
   ],
   "source": [
    "k = get_bin_length(15, 1)\n",
    "#k = get_bin_length(15, 82)\n",
    "for i in range(10):\n",
    "    svm_scores_15 = LinearSVM(15, 1, 3, noise=True)\n",
    "    print(svm_scores_15)"
   ]
  },
  {
   "cell_type": "markdown",
   "metadata": {},
   "source": [
    "### 2.4.2 Lowest resolution"
   ]
  },
  {
   "cell_type": "code",
   "execution_count": 80,
   "metadata": {},
   "outputs": [
    {
     "data": {
      "text/plain": [
       "(0.21647058823529408, 0.06803215197553393)"
      ]
     },
     "execution_count": 80,
     "metadata": {},
     "output_type": "execute_result"
    }
   ],
   "source": [
    "#k = get_bin_length(15, 1)\n",
    "k = get_bin_length(15, 82)\n",
    "LinearSVM(15, 1, 3, noise=True)"
   ]
  }
 ],
 "metadata": {
  "kernelspec": {
   "display_name": "Python 3",
   "language": "python",
   "name": "python3"
  },
  "language_info": {
   "codemirror_mode": {
    "name": "ipython",
    "version": 3
   },
   "file_extension": ".py",
   "mimetype": "text/x-python",
   "name": "python",
   "nbconvert_exporter": "python",
   "pygments_lexer": "ipython3",
   "version": "3.7.3"
  }
 },
 "nbformat": 4,
 "nbformat_minor": 2
}
